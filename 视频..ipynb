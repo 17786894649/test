{
 "cells": [
  {
   "cell_type": "code",
   "execution_count": 74,
   "id": "ff043b83-15f2-48c0-bf5b-18a84cfe769d",
   "metadata": {
    "execution": {
     "iopub.execute_input": "2024-11-21T08:18:08.704048Z",
     "iopub.status.busy": "2024-11-21T08:18:08.703126Z",
     "iopub.status.idle": "2024-11-21T08:18:08.982409Z",
     "shell.execute_reply": "2024-11-21T08:18:08.981461Z",
     "shell.execute_reply.started": "2024-11-21T08:18:08.703999Z"
    },
    "tags": []
   },
   "outputs": [
    {
     "name": "stdout",
     "output_type": "stream",
     "text": [
      "VideoObject(id='84311732092992900-9221303064715259571', model='cogvideox', video_result=None, task_status='PROCESSING', request_id='-9221303064715259572')\n"
     ]
    }
   ],
   "source": [
    "from zhipuai import ZhipuAI\n",
    "client =ZhipuAI(api_key='f28f99afec54ba87aef362f6a6407d3b.kWHsoEEitX2e2Ro5')\n",
    "\n",
    "response=client.videos.generations(\n",
    "    model='cogvideox',\n",
    "    prompt='一只鸡与一只狗打架。'\n",
    ")\n",
    "print(response)"
   ]
  },
  {
   "cell_type": "code",
   "execution_count": 85,
   "id": "4f3e8fb8-41f0-44c8-9079-ec6e4d42397b",
   "metadata": {
    "execution": {
     "iopub.execute_input": "2024-11-21T08:18:34.026949Z",
     "iopub.status.busy": "2024-11-21T08:18:34.026541Z",
     "iopub.status.idle": "2024-11-21T08:18:34.169581Z",
     "shell.execute_reply": "2024-11-21T08:18:34.168708Z",
     "shell.execute_reply.started": "2024-11-21T08:18:34.026908Z"
    },
    "tags": []
   },
   "outputs": [
    {
     "name": "stdout",
     "output_type": "stream",
     "text": [
      "VideoObject(id=None, model='cogvideox', video_result=[VideoResult(url='https://aigc-files.bigmodel.cn/api/cogvideo/24416ce0-a7e1-11ef-bd78-9ee7942420ea_0.mp4', cover_image_url='https://aigc-files.bigmodel.cn/api/cogvideo/24416ce0-a7e1-11ef-bd78-9ee7942420ea_cover_0.jpeg')], task_status='SUCCESS', request_id='-9221303064715259572')\n"
     ]
    }
   ],
   "source": [
    "from zhipuai import ZhipuAI\n",
    "client =ZhipuAI(api_key='f28f99afec54ba87aef362f6a6407d3b.kWHsoEEitX2e2Ro5')\n",
    "\n",
    "response=client.videos.retrieve_videos_result(\n",
    "   id='84311732092992900-9221303064715259571'\n",
    ")\n",
    "print(response)"
   ]
  },
  {
   "cell_type": "code",
   "execution_count": null,
   "id": "8e99f9ea-1c33-40f0-b1c8-1f1be1026046",
   "metadata": {},
   "outputs": [],
   "source": []
  },
  {
   "cell_type": "code",
   "execution_count": null,
   "id": "cbed3f1c-69b2-4d18-8c6e-76d85810f8e2",
   "metadata": {},
   "outputs": [],
   "source": []
  }
 ],
 "metadata": {
  "kernelspec": {
   "display_name": "Python 3 (ipykernel)",
   "language": "python",
   "name": "python3"
  },
  "language_info": {
   "codemirror_mode": {
    "name": "ipython",
    "version": 3
   },
   "file_extension": ".py",
   "mimetype": "text/x-python",
   "name": "python",
   "nbconvert_exporter": "python",
   "pygments_lexer": "ipython3",
   "version": "3.8.18"
  }
 },
 "nbformat": 4,
 "nbformat_minor": 5
}
